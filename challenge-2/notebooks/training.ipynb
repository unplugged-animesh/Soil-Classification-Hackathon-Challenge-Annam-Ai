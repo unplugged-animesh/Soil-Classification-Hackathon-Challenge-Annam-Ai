{
 "cells": [
  {
   "cell_type": "code",
   "execution_count": null,
   "id": "75178901",
   "metadata": {},
   "outputs": [],
   "source": [
    "train_dir = '/kaggle/input/soil-classification-part-2/soil_competition-2025/train'\n",
    "test_dir = '/kaggle/input/soil-classification-part-2/soil_competition-2025/test'\n",
    "train_csv_path = '/kaggle/input/soil-classification-part-2/soil_competition-2025/train_labels.csv'\n",
    "test_ids_path = '/kaggle/input/soil-classification-part-2/soil_competition-2025/test_ids.csv'\n",
    "sample_submission_path = '/kaggle/input/soil-classification-part-2/soil_competition-2025/sample_submission.csv'"
   ]
  },
  {
   "cell_type": "code",
   "execution_count": null,
   "id": "24c6758a",
   "metadata": {},
   "outputs": [],
   "source": [
    "train_df, val_df = train_test_split(df, test_size=0.2, random_state=42)"
   ]
  },
  {
   "cell_type": "code",
   "execution_count": null,
   "id": "4ed2d45e",
   "metadata": {},
   "outputs": [],
   "source": [
    "cifar10 = datasets.CIFAR10(root='./data', train=True, download=True, transform=train_transform)\n",
    "pseudo_negatives = torch.utils.data.Subset(cifar10, range(0, 2000))"
   ]
  },
  {
   "cell_type": "code",
   "execution_count": null,
   "id": "ddac674c",
   "metadata": {},
   "outputs": [],
   "source": [
    "train_dataset = SoilDataset(train_df, train_dir, train_transform)\n",
    "train_dataset = ConcatDataset([train_dataset, pseudo_negatives])"
   ]
  },
  {
   "cell_type": "code",
   "execution_count": null,
   "id": "38f0ac9e",
   "metadata": {},
   "outputs": [],
   "source": [
    "val_dataset = SoilDataset(val_df, train_dir, val_transform)"
   ]
  },
  {
   "cell_type": "code",
   "execution_count": null,
   "id": "a83ba7c1",
   "metadata": {},
   "outputs": [],
   "source": [
    "train_loader = DataLoader(train_dataset, batch_size=32, shuffle=True)\n",
    "val_loader = DataLoader(val_dataset, batch_size=32, shuffle=False)"
   ]
  },
  {
   "cell_type": "code",
   "execution_count": null,
   "id": "49398777",
   "metadata": {},
   "outputs": [],
   "source": [
    "model = models.efficientnet_b0(pretrained=True)\n",
    "model.classifier[1] = nn.Sequential(nn.Linear(model.classifier[1].in_features, 1), nn.Sigmoid())\n",
    "model.to(device)"
   ]
  },
  {
   "cell_type": "code",
   "execution_count": null,
   "id": "10f7052b",
   "metadata": {},
   "outputs": [],
   "source": [
    "def train_model(model, epochs=10):\n",
    "    model.train()\n",
    "    for epoch in range(epochs):\n",
    "        running_loss = 0.0\n",
    "        for images, labels in tqdm(train_loader, desc=f\"Epoch {epoch+1}\"):\n",
    "            images = images.to(device)\n",
    "            labels = labels.to(device).unsqueeze(1)"
   ]
  },
  {
   "cell_type": "code",
   "execution_count": null,
   "id": "67879172",
   "metadata": {},
   "outputs": [],
   "source": [
    "optimizer.zero_grad()\n",
    "            outputs = model(images)\n",
    "            loss = criterion(outputs, labels)\n",
    "            loss.backward()\n",
    "            optimizer.step()\n",
    "            running_loss += loss.item()\n",
    "        print(f\"Epoch {epoch+1} - Loss: {running_loss/len(train_loader):.4f}\")"
   ]
  },
  {
   "cell_type": "code",
   "execution_count": null,
   "id": "e4006c37",
   "metadata": {},
   "outputs": [],
   "source": [
    "train_model(model, epochs=10)\n",
    "evaluate_model(model, val_loader)"
   ]
  }
 ],
 "metadata": {},
 "nbformat": 4,
 "nbformat_minor": 5
}
